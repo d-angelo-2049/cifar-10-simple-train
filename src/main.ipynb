{
 "cells": [
  {
   "cell_type": "markdown",
   "id": "f4ce9936-91be-4b36-939d-f36c556a0746",
   "metadata": {},
   "source": [
    "# ResNet 56による Cifar 10 の画像分類問題"
   ]
  },
  {
   "cell_type": "code",
   "execution_count": null,
   "id": "05f9d835-bb34-48ec-81d7-54bdf4e3092e",
   "metadata": {},
   "outputs": [],
   "source": [
    "%matplotlib inline\n",
    "import numpy as np\n",
    "import matplotlib.pyplot as plt\n",
    "import tensorflow as tf\n",
    "\n",
    "from tensorflow.keras.callbacks import Callback\n",
    "import time\n",
    "\n",
    "from tensorflow.keras.datasets import cifar10\n",
    "from tensorflow.keras import Model\n",
    "from tensorflow.keras.regularizers import l2\n",
    "from tensorflow.keras.layers import Conv2D, Dense, BatchNormalization, Activation, MaxPool2D, GlobalAveragePooling2D, Add, Input, Flatten, Dropout\n",
    "from tensorflow.keras.optimizers import Adam, SGD\n",
    "from tensorflow.keras import utils\n",
    "from tensorflow.keras.preprocessing.image import ImageDataGenerator\n",
    "from tensorflow.keras.callbacks import LearningRateScheduler\n",
    "from io import StringIO\n",
    "import re"
   ]
  },
  {
   "cell_type": "markdown",
   "id": "a1d4e735-860f-4674-a1da-4def636775ad",
   "metadata": {},
   "source": [
    "# データセット前処理(正規化など)"
   ]
  },
  {
   "cell_type": "code",
   "execution_count": null,
   "id": "f36f1321-44bb-49ea-a960-4914c42fce9a",
   "metadata": {},
   "outputs": [],
   "source": [
    "(x_train, y_train), (x_test, y_test) = cifar10.load_data()\n",
    "\n",
    "# 各画素を0から1に正規化\n",
    "X_train = x_train.astype('float32') / 255     \n",
    "X_test = x_test.astype('float32') /255\n",
    "\n",
    "Y_train = y_train.reshape(-1)\n",
    "Y_test = y_test.reshape(-1)\n",
    "\n",
    "print('X_train shape:', X_train.shape)      # X_trainの配列形状\n",
    "print('Y_train shape:', Y_train.shape)      # Y_trainの配列形状\n",
    "\n",
    "print('X_testr shape:', X_test.shape)      # X_trainの配列形状\n",
    "print('Y_test shape:', Y_test.shape)      # Y_trainの配列形状\n",
    "print(X_train.shape[0], 'train samples')    # 訓練サンプル数\n",
    "print(X_test.shape[0], 'test samples')      # 評価サンプル数\n",
    "print(Y_test[1])"
   ]
  },
  {
   "cell_type": "markdown",
   "id": "8212f122-9c74-4b88-8229-089782dda40e",
   "metadata": {},
   "source": [
    "# 元データを表示"
   ]
  },
  {
   "cell_type": "code",
   "execution_count": null,
   "id": "d061f879-f421-477b-80d9-af92583ca895",
   "metadata": {},
   "outputs": [],
   "source": [
    "plt.imshow(X_test[100])    # 入力画像の例を表示\n",
    "print(y_test[100])     # 正解データ (ラベル)\n",
    "print(Y_test[100])     # 正解データ (確率の配列)"
   ]
  },
  {
   "cell_type": "markdown",
   "id": "b78bbfce-ac20-47dc-9c07-1b4b44ae4075",
   "metadata": {},
   "source": [
    "# Data augmentation(水平シフトとカットアウト)"
   ]
  },
  {
   "cell_type": "code",
   "execution_count": null,
   "id": "74f6ae06-1905-443b-994e-edd000a74276",
   "metadata": {},
   "outputs": [],
   "source": [
    "\n",
    "class CustomImageDataGenerator(ImageDataGenerator):\n",
    "    def __init__(self, cutout_mask_size = 0, *args, **kwargs):\n",
    "        super().__init__(*args, **kwargs)\n",
    "        self.cutout_mask_size = cutout_mask_size\n",
    "        \n",
    "    def cutout(self, x, y):\n",
    "        return np.array(list(map(self._cutout, x))), y\n",
    "    \n",
    "    def _cutout(self, image_origin):\n",
    "        image = np.copy(image_origin)\n",
    "        mask_value = image.mean()\n",
    "\n",
    "        h, w, _ = image.shape\n",
    "        # はみだしを許して マスク画像の座標を算出\n",
    "        top = np.random.randint(0 - self.cutout_mask_size // 2, h - self.cutout_mask_size)\n",
    "        left = np.random.randint(0 - self.cutout_mask_size // 2, w - self.cutout_mask_size)\n",
    "        bottom = top + self.cutout_mask_size\n",
    "        right = left + self.cutout_mask_size\n",
    "\n",
    "        # はみ出した場合の処理\n",
    "        if top < 0:\n",
    "            top = 0\n",
    "        if left < 0:\n",
    "            left = 0\n",
    "\n",
    "        # マスク部分の画素値を平均値で埋める\n",
    "        image[top:bottom, left:right, :].fill(mask_value)\n",
    "        return image\n",
    "    \n",
    "    def flow(self, *args, **kwargs):\n",
    "        batches = super().flow(*args, **kwargs)\n",
    "        \n",
    "        # 拡張処理\n",
    "        while True:\n",
    "            batch_x, batch_y = next(batches)\n",
    "            \n",
    "            if self.cutout_mask_size > 0:\n",
    "                result = self.cutout(batch_x, batch_y)\n",
    "                batch_x, batch_y = result                        \n",
    "                \n",
    "            yield (batch_x, batch_y)     \n",
    "\n",
    "datagen_parameters = {\"horizontal_flip\": True, \"width_shift_range\": 0.1, \"height_shift_range\": 0.1, \"cutout_mask_size\": 16}\n",
    "datagen = CustomImageDataGenerator(**datagen_parameters)\n",
    "datagen_for_test = ImageDataGenerator()\n"
   ]
  },
  {
   "cell_type": "markdown",
   "id": "1beadd59-38ee-4f0d-a7b4-1206c16f28cc",
   "metadata": {},
   "source": [
    "# モデル定義"
   ]
  },
  {
   "cell_type": "code",
   "execution_count": null,
   "id": "74e92f35-5577-44b4-bad4-b34bc4d96c13",
   "metadata": {},
   "outputs": [],
   "source": [
    "\n",
    "n = 9 # 56 layers\n",
    "channels = [16, 32, 64]\n",
    "\n",
    "inputs = Input(shape=(32, 32, 3))\n",
    "x = Conv2D(channels[0], kernel_size=(3, 3), padding=\"same\", kernel_initializer=\"he_normal\", kernel_regularizer=l2(1e-4))(inputs)\n",
    "x = BatchNormalization()(x)\n",
    "x = Activation(tf.nn.relu)(x)\n",
    "\n",
    "for c in channels:\n",
    "    for i in range(n):\n",
    "        subsampling = i == 0 and c > 16\n",
    "        strides = (2, 2) if subsampling else (1, 1)\n",
    "        y = Conv2D(c, kernel_size=(3, 3), padding=\"same\", strides=strides, kernel_initializer=\"he_normal\", kernel_regularizer=l2(1e-4))(x)\n",
    "        y = BatchNormalization()(y)\n",
    "        y = Activation(tf.nn.relu)(y)\n",
    "        y = Conv2D(c, kernel_size=(3, 3), padding=\"same\", kernel_initializer=\"he_normal\", kernel_regularizer=l2(1e-4))(y)\n",
    "        y = BatchNormalization()(y)        \n",
    "        if subsampling:\n",
    "            x = Conv2D(c, kernel_size=(1, 1), strides=(2, 2), padding=\"same\", kernel_initializer=\"he_normal\", kernel_regularizer=l2(1e-4))(x)\n",
    "        x = Add()([x, y])\n",
    "        x = Activation(tf.nn.relu)(x)\n",
    "\n",
    "x = GlobalAveragePooling2D()(x)\n",
    "x = Flatten()(x)\n",
    "outputs = Dense(10, activation=tf.nn.softmax, kernel_initializer=\"he_normal\")(x)\n",
    "\n",
    "model = Model(inputs=inputs, outputs=outputs)\n",
    "model.type = \"resnet\" + str(6 * n + 2)\n",
    "     \n",
    "with StringIO() as buf:\n",
    "    model.summary(print_fn=lambda x: buf.write(x + \"\\n\"))\n",
    "    summary = buf.getvalue()\n",
    "print(summary)\n",
    "re1 = re.match(r\"(.|\\s)*Total params: \", summary)\n",
    "re2 = re.match(r\"(.|\\s)*Total params: [\\d|,]+\", summary)\n",
    "total_params = summary[re1.end():re2.end()]"
   ]
  },
  {
   "cell_type": "markdown",
   "id": "6abcc27e-97c8-4956-9cbe-13787e8e5f4e",
   "metadata": {},
   "source": [
    "# 誤差関数と勾配降下法"
   ]
  },
  {
   "cell_type": "code",
   "execution_count": null,
   "id": "f90881cd-682f-4993-98db-87a86f242625",
   "metadata": {},
   "outputs": [],
   "source": [
    "lr = 0.1\n",
    "optimizer = SGD(learning_rate=lr, momentum=0.9)\n",
    "model.compile(optimizer=optimizer, loss=\"sparse_categorical_crossentropy\", metrics=[\"accuracy\"])"
   ]
  },
  {
   "cell_type": "markdown",
   "id": "2a5917b1-25d0-4efd-8040-713d97cd768c",
   "metadata": {},
   "source": [
    "# 学習"
   ]
  },
  {
   "cell_type": "code",
   "execution_count": null,
   "id": "831620ca-24e7-4f3d-a3f9-68aacb36eeaf",
   "metadata": {},
   "outputs": [],
   "source": [
    "num_epoch = 150\n",
    "batch_size = 64\n",
    "\n",
    "def lr_schedul(epoch):\n",
    "    x = 0.1\n",
    "    if epoch > num_epoch / 2:\n",
    "        x = 0.01\n",
    "    if epoch > num_epoch * 3 / 4:\n",
    "        x = 0.001\n",
    "    return x\n",
    "    \n",
    "\n",
    "lr_decay = LearningRateScheduler(\n",
    "    lr_schedul,\n",
    "    # verbose=1で、更新メッセージ表示。0の場合は表示しない\n",
    "    verbose=1,\n",
    ")\n",
    "\n",
    "history = model.fit(datagen.flow(X_train, Y_train, batch_size=batch_size),\n",
    "                    steps_per_epoch=50000//batch_size, \n",
    "                    epochs=num_epoch, \n",
    "                    validation_data=datagen_for_test.flow(X_test, Y_test, batch_size=batch_size),\n",
    "                    validation_steps=10000//batch_size,\n",
    "                    callbacks=[lr_decay])\n",
    "\n",
    "score = model.evaluate(X_test, Y_test)\n",
    "print('Test score:', score[0])\n",
    "print('Test accuracy:', score[1])"
   ]
  },
  {
   "cell_type": "markdown",
   "id": "9ada44e2-a7b5-4835-a30c-5a78a753aeb4",
   "metadata": {},
   "source": [
    "# 学習誤差グラフ"
   ]
  },
  {
   "cell_type": "code",
   "execution_count": null,
   "id": "8d51929e-7afc-4909-b860-39f2b8d84417",
   "metadata": {},
   "outputs": [],
   "source": [
    "\n",
    "plt.plot(history.history['loss'], label=\"loss\")\n",
    "plt.plot(history.history['val_loss'], label=\"val_loss\")\n",
    "plt.title('Loss')\n",
    "plt.legend()\n",
    "plt.xlabel('epoch')\n",
    "plt.yscale('log')\n",
    "plt.savefig(\"epoch-182-resnet-56-loss-data-aug-sgd.png\")\n",
    "plt.show()\n",
    "\n",
    "# 学習精度グラフ\n",
    "plt.plot(history.history['accuracy'], label=\"acc\")\n",
    "plt.plot(history.history['val_accuracy'], label=\"val_acc\")\n",
    "plt.title('Accuracy')\n",
    "plt.legend(loc=\"lower right\")\n",
    "plt.xlabel('epoch')\n",
    "plt.savefig(\"epoch-182-resnet-56-accuracy-data-aug-sgd.png\")\n",
    "plt.show()\n",
    "\n"
   ]
  },
  {
   "cell_type": "code",
   "execution_count": null,
   "id": "29762598-f2ca-436a-9920-ea01d2a02724",
   "metadata": {},
   "outputs": [],
   "source": []
  }
 ],
 "metadata": {
  "kernelspec": {
   "display_name": "Python 3 (ipykernel)",
   "language": "python",
   "name": "python3"
  },
  "language_info": {
   "codemirror_mode": {
    "name": "ipython",
    "version": 3
   },
   "file_extension": ".py",
   "mimetype": "text/x-python",
   "name": "python",
   "nbconvert_exporter": "python",
   "pygments_lexer": "ipython3",
   "version": "3.8.16"
  }
 },
 "nbformat": 4,
 "nbformat_minor": 5
}
